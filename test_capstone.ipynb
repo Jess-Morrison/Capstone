{
 "cells": [
  {
   "cell_type": "code",
   "execution_count": 1,
   "metadata": {},
   "outputs": [],
   "source": [
    "from bs4 import BeautifulSoup\n",
    "import pandas as pd\n",
    "from IPython.core.display import display, HTML\n",
    "import pandas as pd\n",
    "import requests\n",
    "import matplotlib.pyplot as plt\n",
    "from IPython.display import Image\n",
    "import folium\n",
    "from key_2 import api_key\n",
    "import json\n",
    "import time\n",
    "%matplotlib inline"
   ]
  },
  {
   "cell_type": "code",
   "execution_count": 2,
   "metadata": {},
   "outputs": [],
   "source": [
    "import json\n",
    "import time\n",
    "class GooglePlaces(object):\n",
    "    def __init__(self, api_key):\n",
    "        super(GooglePlaces, self).__init__()\n",
    "        self.apiKey = api_key\n",
    " \n",
    "    def search_places_by_coordinate(self, location, radius, types):\n",
    "        endpoint_url = \"https://maps.googleapis.com/maps/api/place/nearbysearch/json\"\n",
    "        places = []\n",
    "        params = {\n",
    "            'location': location,\n",
    "            'radius': radius,\n",
    "            'types': types,\n",
    "            'key': self.api_key\n",
    "        }\n",
    "        res = requests.get(endpoint_url, params = params)\n",
    "        results =  json.loads(res.content)\n",
    "        places.extend(results['results'])\n",
    "        time.sleep(2)\n",
    "        while \"next_page_token\" in results:\n",
    "            params['pagetoken'] = results['next_page_token'],\n",
    "            res = requests.get(endpoint_url, params = params)\n",
    "            results = json.loads(res.content)\n",
    "            places.extend(results['results'])\n",
    "            time.sleep(2)\n",
    "        return places"
   ]
  },
  {
   "cell_type": "markdown",
   "metadata": {},
   "source": [
    "api = GooglePlaces(api_key)\n",
    "places = api.search_places_by_coordinate(\"36.163242365862246,-86.78142455028717\", \"1600\", \"groceries\")\n",
    "fields = ['name', 'formatted_address']\n",
    "for place in places:\n",
    "    details = api.search_places_by_coordinate(place['place_id'], fields)\n",
    "    try:\n",
    "        website = details['result']['website']\n",
    "    except KeyError:\n",
    "        website = \"\""
   ]
  },
  {
   "cell_type": "code",
   "execution_count": 3,
   "metadata": {},
   "outputs": [],
   "source": [
    "class GooglePlaces(object):\n",
    "    def find_nearby_places_nash(self, api_key):\n",
    "        super(GooglePlaces, self).__init__()\n",
    "        self.apiKey = apiKey\n",
    " \n",
    "    def search_places_by_coordinate(self, location, radius, types):\n",
    "        endpoint_url = \"https://maps.googleapis.com/maps/api/place/nearbysearch/json\"\n",
    "        places = []\n",
    "        params = {\n",
    "            '36.163242365862246,-86.78142455028717': location,\n",
    "            '1600': radius,\n",
    "            'supermarket': types,\n",
    "            'key': self.api_key,\n",
    "            'groceries':keyword\n",
    "        }\n",
    "        res = requests.get(endpoint_url, params = params)\n",
    "        results =  json.loads(res.content)\n",
    "        places.extend(results['results'])\n",
    "        time.sleep(2)\n",
    "        while \"next_page_token\" in results:\n",
    "            params['pagetoken'] = results['next_page_token'],\n",
    "            res = requests.get(endpoint_url, params = params)\n",
    "            results = json.loads(res.content)\n",
    "            places.extend(results['results'])\n",
    "            time.sleep(2)\n",
    "        return places"
   ]
  },
  {
   "cell_type": "code",
   "execution_count": 4,
   "metadata": {},
   "outputs": [
    {
     "ename": "NameError",
     "evalue": "name 'places' is not defined",
     "output_type": "error",
     "traceback": [
      "\u001b[0;31m---------------------------------------------------------------------------\u001b[0m",
      "\u001b[0;31mNameError\u001b[0m                                 Traceback (most recent call last)",
      "\u001b[0;32m<ipython-input-4-36767f60bf84>\u001b[0m in \u001b[0;36m<module>\u001b[0;34m\u001b[0m\n\u001b[0;32m----> 1\u001b[0;31m \u001b[0mplaces\u001b[0m\u001b[0;34m\u001b[0m\u001b[0;34m\u001b[0m\u001b[0m\n\u001b[0m",
      "\u001b[0;31mNameError\u001b[0m: name 'places' is not defined"
     ]
    }
   ],
   "source": [
    "places"
   ]
  },
  {
   "cell_type": "code",
   "execution_count": null,
   "metadata": {},
   "outputs": [],
   "source": []
  }
 ],
 "metadata": {
  "kernelspec": {
   "display_name": "Python 3",
   "language": "python",
   "name": "python3"
  },
  "language_info": {
   "codemirror_mode": {
    "name": "ipython",
    "version": 3
   },
   "file_extension": ".py",
   "mimetype": "text/x-python",
   "name": "python",
   "nbconvert_exporter": "python",
   "pygments_lexer": "ipython3",
   "version": "3.7.6"
  }
 },
 "nbformat": 4,
 "nbformat_minor": 4
}

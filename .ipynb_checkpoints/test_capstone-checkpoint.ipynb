{
 "cells": [
  {
   "cell_type": "code",
   "execution_count": 4,
   "metadata": {},
   "outputs": [],
   "source": [
    "from bs4 import BeautifulSoup\n",
    "import pandas as pd\n",
    "from IPython.core.display import display, HTML\n",
    "import pandas as pd\n",
    "import requests\n",
    "import matplotlib.pyplot as plt\n",
    "from IPython.display import Image\n",
    "import folium\n",
    "from key_2 import api_key\n",
    "import json\n",
    "import time\n",
    "%matplotlib inline"
   ]
  },
  {
   "cell_type": "code",
   "execution_count": 5,
   "metadata": {},
   "outputs": [],
   "source": [
    "import json\n",
    "import time\n",
    "class GooglePlaces(object):\n",
    "    def __init__(self, api_key):\n",
    "        super(GooglePlaces, self).__init__()\n",
    "        self.apiKey = api_key\n",
    " \n",
    "    def search_places_by_coordinate(self, location, radius, types):\n",
    "        endpoint_url = \"https://maps.googleapis.com/maps/api/place/nearbysearch/json\"\n",
    "        places = []\n",
    "        params = {\n",
    "            'location': location,\n",
    "            'radius': radius,\n",
    "            'types': types,\n",
    "            'key': self.api_key\n",
    "        }\n",
    "        res = requests.get(endpoint_url, params = params)\n",
    "        results =  json.loads(res.content)\n",
    "        places.extend(results['results'])\n",
    "        time.sleep(2)\n",
    "        while \"next_page_token\" in results:\n",
    "            params['pagetoken'] = results['next_page_token'],\n",
    "            res = requests.get(endpoint_url, params = params)\n",
    "            results = json.loads(res.content)\n",
    "            places.extend(results['results'])\n",
    "            time.sleep(2)\n",
    "        return places"
   ]
  },
  {
   "cell_type": "code",
   "execution_count": 6,
   "metadata": {},
   "outputs": [
    {
     "ename": "AttributeError",
     "evalue": "'GooglePlaces' object has no attribute 'api_key'",
     "output_type": "error",
     "traceback": [
      "\u001b[0;31m---------------------------------------------------------------------------\u001b[0m",
      "\u001b[0;31mAttributeError\u001b[0m                            Traceback (most recent call last)",
      "\u001b[0;32m<ipython-input-6-cdcdbb7d53f1>\u001b[0m in \u001b[0;36m<module>\u001b[0;34m\u001b[0m\n\u001b[1;32m      1\u001b[0m \u001b[0mapi\u001b[0m \u001b[0;34m=\u001b[0m \u001b[0mGooglePlaces\u001b[0m\u001b[0;34m(\u001b[0m\u001b[0mapi_key\u001b[0m\u001b[0;34m)\u001b[0m\u001b[0;34m\u001b[0m\u001b[0;34m\u001b[0m\u001b[0m\n\u001b[0;32m----> 2\u001b[0;31m \u001b[0mplaces\u001b[0m \u001b[0;34m=\u001b[0m \u001b[0mapi\u001b[0m\u001b[0;34m.\u001b[0m\u001b[0msearch_places_by_coordinate\u001b[0m\u001b[0;34m(\u001b[0m\u001b[0;34m\"36.163242365862246,-86.78142455028717\"\u001b[0m\u001b[0;34m,\u001b[0m \u001b[0;34m\"1600\"\u001b[0m\u001b[0;34m,\u001b[0m \u001b[0;34m\"groceries\"\u001b[0m\u001b[0;34m)\u001b[0m\u001b[0;34m\u001b[0m\u001b[0;34m\u001b[0m\u001b[0m\n\u001b[0m\u001b[1;32m      3\u001b[0m \u001b[0mfields\u001b[0m \u001b[0;34m=\u001b[0m \u001b[0;34m[\u001b[0m\u001b[0;34m'name'\u001b[0m\u001b[0;34m,\u001b[0m \u001b[0;34m'formatted_address'\u001b[0m\u001b[0;34m]\u001b[0m\u001b[0;34m\u001b[0m\u001b[0;34m\u001b[0m\u001b[0m\n\u001b[1;32m      4\u001b[0m \u001b[0;32mfor\u001b[0m \u001b[0mplace\u001b[0m \u001b[0;32min\u001b[0m \u001b[0mplaces\u001b[0m\u001b[0;34m:\u001b[0m\u001b[0;34m\u001b[0m\u001b[0;34m\u001b[0m\u001b[0m\n\u001b[1;32m      5\u001b[0m     \u001b[0mdetails\u001b[0m \u001b[0;34m=\u001b[0m \u001b[0mapi\u001b[0m\u001b[0;34m.\u001b[0m\u001b[0msearch_places_by_coordinate\u001b[0m\u001b[0;34m(\u001b[0m\u001b[0mplace\u001b[0m\u001b[0;34m[\u001b[0m\u001b[0;34m'place_id'\u001b[0m\u001b[0;34m]\u001b[0m\u001b[0;34m,\u001b[0m \u001b[0mfields\u001b[0m\u001b[0;34m)\u001b[0m\u001b[0;34m\u001b[0m\u001b[0;34m\u001b[0m\u001b[0m\n",
      "\u001b[0;32m<ipython-input-5-30b4d4d588a4>\u001b[0m in \u001b[0;36msearch_places_by_coordinate\u001b[0;34m(self, location, radius, types)\u001b[0m\n\u001b[1;32m     13\u001b[0m             \u001b[0;34m'radius'\u001b[0m\u001b[0;34m:\u001b[0m \u001b[0mradius\u001b[0m\u001b[0;34m,\u001b[0m\u001b[0;34m\u001b[0m\u001b[0;34m\u001b[0m\u001b[0m\n\u001b[1;32m     14\u001b[0m             \u001b[0;34m'types'\u001b[0m\u001b[0;34m:\u001b[0m \u001b[0mtypes\u001b[0m\u001b[0;34m,\u001b[0m\u001b[0;34m\u001b[0m\u001b[0;34m\u001b[0m\u001b[0m\n\u001b[0;32m---> 15\u001b[0;31m             \u001b[0;34m'key'\u001b[0m\u001b[0;34m:\u001b[0m \u001b[0mself\u001b[0m\u001b[0;34m.\u001b[0m\u001b[0mapi_key\u001b[0m\u001b[0;34m\u001b[0m\u001b[0;34m\u001b[0m\u001b[0m\n\u001b[0m\u001b[1;32m     16\u001b[0m         }\n\u001b[1;32m     17\u001b[0m         \u001b[0mres\u001b[0m \u001b[0;34m=\u001b[0m \u001b[0mrequests\u001b[0m\u001b[0;34m.\u001b[0m\u001b[0mget\u001b[0m\u001b[0;34m(\u001b[0m\u001b[0mendpoint_url\u001b[0m\u001b[0;34m,\u001b[0m \u001b[0mparams\u001b[0m \u001b[0;34m=\u001b[0m \u001b[0mparams\u001b[0m\u001b[0;34m)\u001b[0m\u001b[0;34m\u001b[0m\u001b[0;34m\u001b[0m\u001b[0m\n",
      "\u001b[0;31mAttributeError\u001b[0m: 'GooglePlaces' object has no attribute 'api_key'"
     ]
    }
   ],
   "source": [
    "api = GooglePlaces(api_key)\n",
    "places = api.search_places_by_coordinate(\"36.163242365862246,-86.78142455028717\", \"1600\", \"groceries\")\n",
    "fields = ['name', 'formatted_address']\n",
    "for place in places:\n",
    "    details = api.search_places_by_coordinate(place['place_id'], fields)\n",
    "    try:\n",
    "        website = details['result']['website']\n",
    "    except KeyError:\n",
    "        website = \"\""
   ]
  },
  {
   "cell_type": "code",
   "execution_count": null,
   "metadata": {},
   "outputs": [],
   "source": [
    "class GooglePlaces(object):\n",
    "    def find_nearby_places_nash(self, api_key):\n",
    "        super(GooglePlaces, self).__init__()\n",
    "        self.apiKey = apiKey\n",
    " \n",
    "    def search_places_by_coordinate(self, location, radius, types):\n",
    "        endpoint_url = \"https://maps.googleapis.com/maps/api/place/nearbysearch/json\"\n",
    "        places = []\n",
    "        params = {\n",
    "            '36.163242365862246,-86.78142455028717': location,\n",
    "            '1600': radius,\n",
    "            'types': types,\n",
    "            'key': self.api_key\n",
    "        }\n",
    "        res = requests.get(endpoint_url, params = params)\n",
    "        results =  json.loads(res.content)\n",
    "        places.extend(results['results'])\n",
    "        time.sleep(2)\n",
    "        while \"next_page_token\" in results:\n",
    "            params['pagetoken'] = results['next_page_token'],\n",
    "            res = requests.get(endpoint_url, params = params)\n",
    "            results = json.loads(res.content)\n",
    "            places.extend(results['results'])\n",
    "            time.sleep(2)\n",
    "        return places"
   ]
  }
 ],
 "metadata": {
  "kernelspec": {
   "display_name": "Python 3",
   "language": "python",
   "name": "python3"
  },
  "language_info": {
   "codemirror_mode": {
    "name": "ipython",
    "version": 3
   },
   "file_extension": ".py",
   "mimetype": "text/x-python",
   "name": "python",
   "nbconvert_exporter": "python",
   "pygments_lexer": "ipython3",
   "version": "3.7.6"
  }
 },
 "nbformat": 4,
 "nbformat_minor": 4
}
